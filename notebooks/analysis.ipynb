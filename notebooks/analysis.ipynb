{
 "cells": [
  {
   "cell_type": "markdown",
   "metadata": {},
   "source": [
    "# 學生憂鬱症風險分析筆記本\n",
    "## 版本：v1.0.0\n",
    "## 日期：2025-05-11"
   ]
  },
  {
   "cell_type": "code",
   "execution_count": null,
   "metadata": {},
   "outputs": [],
   "source": [
    "# 導入必要套件\n",
    "import pandas as pd\n",
    "import numpy as np\n",
    "import matplotlib.pyplot as plt\n",
    "import seaborn as sns\n",
    "from sklearn.cluster import KMeans\n",
    "from sklearn.linear_model import LogisticRegression\n",
    "from sklearn.model_selection import train_test_split\n",
    "from sklearn.metrics import confusion_matrix, roc_curve, auc\n",
    "from sklearn.preprocessing import StandardScaler\n",
    "import warnings\n",
    "warnings.filterwarnings('ignore')\n",
    "\n",
    "# 設定圖表風格\n",
    "plt.style.use('seaborn-v0_8')\n",
    "%matplotlib inline"
   ]
  },
  {
   "cell_type": "markdown",
   "metadata": {},
   "source": [
    "## 1. 資料載入與檢視"
   ]
  },
  {
   "cell_type": "code",
   "execution_count": null,
   "metadata": {},
   "outputs": [],
   "source": [
    "# 載入資料\n",
    "df = pd.read_csv('../data/student_depression_dataset.csv')\n",
    "\n",
    "# 資料基本資訊\n",
    "print(\"資料維度：\", df.shape)\n",
    "print(\"\\n資料欄位：\")\n",
    "print(df.info())\n",
    "print(\"\\n前5筆資料：\")\n",
    "df.head()"
   ]
  },
  {
   "cell_type": "markdown",
   "metadata": {},
   "source": [
    "## 2. 基礎統計分析"
   ]
  },
  {
   "cell_type": "code",
   "execution_count": null,
   "metadata": {},
   "outputs": [],
   "source": [
    "# 憂鬱症整體比例\n",
    "depression_rate = df['Depression'].mean() * 100\n",
    "print(f\"整體憂鬱症比例：{depression_rate:.1f}%\")\n",
    "\n",
    "# 學歷分布\n",
    "degree_counts = df['Degree'].value_counts()\n",
    "print(\"\\n學歷分布：\")\n",
    "print(degree_counts)\n",
    "\n",
    "# 學歷與憂鬱症關係\n",
    "degree_depression = df.groupby('Degree')['Depression'].agg(['count', 'mean']).round(3)\n",
    "degree_depression.columns = ['總人數', '憂鬱比例']\n",
    "degree_depression['憂鬱百分比'] = (degree_depression['憂鬱比例'] * 100).round(1)\n",
    "print(\"\\n學歷憂鬱症比例：\")\n",
    "print(degree_depression)"
   ]
  },
  {
   "cell_type": "markdown",
   "metadata": {},
   "source": [
    "## 3. 資料視覺化"
   ]
  },
  {
   "cell_type": "code",
   "execution_count": null,
   "metadata": {},
   "outputs": [],
   "source": [
    "# 學歷憂鬱率長條圖\n",
    "plt.figure(figsize=(10, 6))\n",
    "degrees = degree_depression.index\n",
    "depression_rates = degree_depression['憂鬱百分比']\n",
    "plt.bar(degrees, depression_rates, color=sns.color_palette(\"RdYlBu_r\", len(degrees)))\n",
    "plt.xlabel('學歷', fontsize=12)\n",
    "plt.ylabel('憂鬱症比例 (%)', fontsize=12)\n",
    "plt.title('不同學歷憂鬱症比例', fontsize=16)\n",
    "plt.xticks(rotation=45, ha='right')\n",
    "plt.tight_layout()\n",
    "plt.show()"
   ]
  },
  {
   "cell_type": "markdown",
   "metadata": {},
   "source": [
    "## 4. K-means聚類分析"
   ]
  },
  {
   "cell_type": "code",
   "execution_count": null,
   "metadata": {},
   "outputs": [],
   "source": [
    "# 選擇特徵\n",
    "features = ['Academic Pressure', 'Work Pressure', 'CGPA', 'Study Satisfaction']\n",
    "X = df[features]\n",
    "\n",
    "# 標準化\n",
    "scaler = StandardScaler()\n",
    "X_scaled = scaler.fit_transform(X)\n",
    "\n",
    "# K-means聚類\n",
    "kmeans = KMeans(n_clusters=3, random_state=42)\n",
    "df['Cluster'] = kmeans.fit_predict(X_scaled)\n",
    "\n",
    "# 聚類結果統計\n",
    "cluster_stats = df.groupby('Cluster')['Depression'].agg(['count', 'mean']).round(3)\n",
    "cluster_stats.columns = ['樣本數', '憂鬱比例']\n",
    "print(\"K-means聚類結果：\")\n",
    "print(cluster_stats)\n",
    "\n",
    "# 視覺化\n",
    "plt.figure(figsize=(8, 6))\n",
    "plt.bar(cluster_stats.index, cluster_stats['憂鬱比例'], \n",
    "        color=['#3498db', '#e74c3c', '#f39c12'])\n",
    "plt.xlabel('群組')\n",
    "plt.ylabel('憂鬱比例')\n",
    "plt.title('K-means聚類結果')\n",
    "plt.show()"
   ]
  },
  {
   "cell_type": "markdown",
   "metadata": {},
   "source": [
    "## 5. 邏輯回歸分析"
   ]
  },
  {
   "cell_type": "code",
   "execution_count": null,
   "metadata": {},
   "outputs": [],
   "source": [
    "# 準備資料\n",
    "X = df[features]\n",
    "y = df['Depression']\n",
    "\n",
    "# 分割資料集\n",
    "X_train, X_test, y_train, y_test = train_test_split(X, y, test_size=0.2, random_state=42)\n",
    "\n",
    "# 標準化\n",
    "scaler = StandardScaler()\n",
    "X_train_scaled = scaler.fit_transform(X_train)\n",
    "X_test_scaled = scaler.transform(X_test)\n",
    "\n",
    "# 訓練模型\n",
    "lr = LogisticRegression(random_state=42)\n",
    "lr.fit(X_train_scaled, y_train)\n",
    "\n",
    "# 預測\n",
    "y_pred = lr.predict(X_test_scaled)\n",
    "y_pred_proba = lr.predict_proba(X_test_scaled)[:, 1]\n",
    "\n",
    "# 評估\n",
    "from sklearn.metrics import accuracy_score\n",
    "accuracy = accuracy_score(y_test, y_pred)\n",
    "print(f\"模型準確率：{accuracy:.3f}\")"
   ]
  },
  {
   "cell_type": "code",
   "execution_count": null,
   "metadata": {},
   "outputs": [],
   "source": [
    "# 混淆矩陣\n",
    "plt.figure(figsize=(6, 5))\n",
    "cm = confusion_matrix(y_test, y_pred)\n",
    "sns.heatmap(cm, annot=True, fmt='d', cmap='Blues')\n",
    "plt.title('混淆矩陣')\n",
    "plt.ylabel('實際')\n",
    "plt.xlabel('預測')\n",
    "plt.show()\n",
    "\n",
    "# ROC曲線\n",
    "plt.figure(figsize=(6, 5))\n",
    "fpr, tpr, _ = roc_curve(y_test, y_pred_proba)\n",
    "roc_auc = auc(fpr, tpr)\n",
    "plt.plot(fpr, tpr, linewidth=2, label=f'ROC曲線 (AUC = {roc_auc:.3f})')\n",
    "plt.plot([0, 1], [0, 1], linestyle='--', color='gray')\n",
    "plt.xlabel('假陽性率')\n",
    "plt.ylabel('真陽性率')\n",
    "plt.title('ROC曲線')\n",
    "plt.legend()\n",
    "plt.show()"
   ]
  },
  {
   "cell_type": "markdown",
   "metadata": {},
   "source": [
    "## 6. 特徵重要性分析"
   ]
  },
  {
   "cell_type": "code",
   "execution_count": null,
   "metadata": {},
   "outputs": [],
   "source": [
    "# 顯示特徵係數\n",
    "coef_df = pd.DataFrame({\n",
    "    'Feature': features,\n",
    "    'Coefficient': lr.coef_[0]\n",
    "}).sort_values('Coefficient', key=abs, ascending=False)\n",
    "\n",
    "print(\"特徵重要性：\")\n",
    "print(coef_df)\n",
    "\n",
    "# 視覺化\n",
    "plt.figure(figsize=(8, 5))\n",
    "plt.barh(coef_df['Feature'], coef_df['Coefficient'], color='skyblue')\n",
    "plt.xlabel('係數值')\n",
    "plt.title('邏輯回歸特徵係數')\n",
    "plt.tight_layout()\n",
    "plt.show()"
   ]
  },
  {
   "cell_type": "markdown",
   "metadata": {},
   "source": [
    "## 7. 結果總結\n",
    "\n",
    "### 待填寫結果：\n",
    "- 資料筆數：____\n",
    "- 欄位數量：____\n",
    "- 整體憂鬱症比例：____％\n",
    "- 最高風險學歷：____（憂鬱率：____％）\n",
    "- 最低風險學歷：____（憂鬱率：____％）\n",
    "- K-means最高風險群組：Cluster ____（憂鬱率：____％）\n",
    "- 邏輯回歸準確率：____％\n",
    "- AUC值：____\n",
    "- 最重要特徵：____"
   ]
  }
 ],
 "metadata": {
  "kernelspec": {
   "display_name": "Python 3",
   "language": "python",
   "name": "python3"
  },
  "language_info": {
   "codemirror_mode": {
    "name": "ipython",
    "version": 3
   },
   "file_extension": ".py",
   "mimetype": "text/x-python",
   "name": "python",
   "nbconvert_exporter": "python",
   "pygments_lexer": "ipython3",
   "version": "3.8.0"
  }
 },
 "nbformat": 4,
 "nbformat_minor": 4
}